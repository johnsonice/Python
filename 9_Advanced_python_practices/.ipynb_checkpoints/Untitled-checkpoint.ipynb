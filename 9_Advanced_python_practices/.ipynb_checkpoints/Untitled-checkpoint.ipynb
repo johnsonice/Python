{
 "cells": [
  {
   "cell_type": "code",
   "execution_count": 1,
   "metadata": {},
   "outputs": [],
   "source": [
    "import logging"
   ]
  },
  {
   "cell_type": "markdown",
   "metadata": {},
   "source": [
    "#### Python log level \n",
    "- NOTSET=0 - DEBUG=10 - INFO=20 - WARN=30 - ERROR=40 - CRITICAL=50\n",
    "\n",
    "#### Logging Formating\n",
    "\n",
    "one example:\n",
    "\n",
    "`\n",
    "\"%(asctime)s — %(name)s — %(levelname)s — %(funcName)s:%(lineno)d — %(message)s\"\n",
    "`\n",
    "`\n",
    "2018-02-07 19:47:41,864 - a.b.c - WARNING - <module>:1 - hello world\n",
    "`"
   ]
  },
  {
   "cell_type": "markdown",
   "metadata": {},
   "source": [
    "#### Python logger\n",
    "\n",
    "A logger is unique by name, meaning that if a logger with the name “toto” has been created, the consequent calls of logging.getLogger(\"toto\") will return the same object:"
   ]
  },
  {
   "cell_type": "code",
   "execution_count": 23,
   "metadata": {},
   "outputs": [],
   "source": [
    "logging.basicConfig(level=logging.INFO)"
   ]
  },
  {
   "cell_type": "code",
   "execution_count": 35,
   "metadata": {},
   "outputs": [
    {
     "name": "stdout",
     "output_type": "stream",
     "text": [
      "20\n"
     ]
    }
   ],
   "source": [
    "toto_logger = logging.getLogger(\"toto\") ## get a logger instance or create a new one \n",
    "toto_logger.setLevel(logging.INFO) ## set log level \n",
    "print(toto_logger.getEffectiveLevel())"
   ]
  },
  {
   "cell_type": "code",
   "execution_count": 38,
   "metadata": {},
   "outputs": [
    {
     "name": "stderr",
     "output_type": "stream",
     "text": [
      "INFO:toto:info message\n",
      "WARNING:toto:debug message\n"
     ]
    }
   ],
   "source": [
    "toto_logger.info(\"info message\") ## this will no print out \n",
    "toto_logger.warning(\"debug message\") ## this will print "
   ]
  },
  {
   "cell_type": "markdown",
   "metadata": {},
   "source": [
    "#### Pythong logging best practices"
   ]
  },
  {
   "cell_type": "code",
   "execution_count": 11,
   "metadata": {},
   "outputs": [
    {
     "name": "stdout",
     "output_type": "stream",
     "text": [
      "10\n"
     ]
    }
   ],
   "source": [
    "logger = logging.getLogger(__name__) ## get a logger instance or create a new one \n",
    "logger.setLevel(logging.DEBUG) ## set log level \n",
    "print(logger.getEffectiveLevel())"
   ]
  },
  {
   "cell_type": "code",
   "execution_count": 13,
   "metadata": {},
   "outputs": [],
   "source": [
    "import logging\n",
    "\n",
    "logging.basicConfig(level=logging.INFO)\n",
    "\n",
    "logger = logging.getLogger(__name__)\n",
    "logger.setLevel(logging.INFO)\n",
    "\n",
    "# create a file handler\n",
    "handler = logging.FileHandler('hello.log')\n",
    "handler.setLevel(logging.INFO)\n",
    "\n",
    "# create a logging format\n",
    "formatter = logging.Formatter('%(asctime)s - %(name)s - %(levelname)s - %(message)s')\n",
    "handler.setFormatter(formatter)\n",
    "\n",
    "# add the handlers to the logger\n",
    "logger.addHandler(handler)\n",
    "\n",
    "logger.warning('Hello baby')"
   ]
  },
  {
   "cell_type": "code",
   "execution_count": null,
   "metadata": {},
   "outputs": [],
   "source": []
  }
 ],
 "metadata": {
  "kernelspec": {
   "display_name": "Python 3",
   "language": "python",
   "name": "python3"
  },
  "language_info": {
   "codemirror_mode": {
    "name": "ipython",
    "version": 3
   },
   "file_extension": ".py",
   "mimetype": "text/x-python",
   "name": "python",
   "nbconvert_exporter": "python",
   "pygments_lexer": "ipython3",
   "version": "3.6.7"
  }
 },
 "nbformat": 4,
 "nbformat_minor": 2
}
